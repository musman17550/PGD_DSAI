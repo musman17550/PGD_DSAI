{
 "cells": [
  {
   "cell_type": "markdown",
   "id": "f9c46294-1b73-4329-a098-73c558d140a5",
   "metadata": {},
   "source": [
    "Question1:\n",
    " Create the variable first name and your last name and Compare the\n",
    "length of your first name and your last name.\n",
    " Using the len() built-in function, find the length of your first\n",
    "name"
   ]
  },
  {
   "cell_type": "code",
   "execution_count": 6,
   "id": "49d16970-cd4f-473c-9ae7-783a277aa225",
   "metadata": {},
   "outputs": [
    {
     "name": "stdin",
     "output_type": "stream",
     "text": [
      "Enter your first name Muhammad\n",
      "Enter your last name Usman\n"
     ]
    },
    {
     "name": "stdout",
     "output_type": "stream",
     "text": [
      "First name is longer than last name\n",
      "Length of first name is:  8\n"
     ]
    }
   ],
   "source": [
    "first_name = input(\"Enter your first name\")\n",
    "last_name = input(\"Enter your last name\")\n",
    "#comparing both names\n",
    "if len(first_name) > len(last_name):\n",
    "    print(\"First name is longer than last name\")\n",
    "elif len(first_name) > len(last_name):\n",
    "    print(\"Last name is longer than first name\")\n",
    "else:\n",
    "    print(\"Both names are equal in length\")\n",
    "\n",
    "#Length of first name\n",
    "print(\"Length of first name is: \", len(first_name))"
   ]
  },
  {
   "cell_type": "markdown",
   "id": "f2d1c0c3-8357-466b-ac7d-4b4afc0767eb",
   "metadata": {},
   "source": [
    "Question2:\n",
    "Declare 5 as num_one and 4 as num_two\n",
    " Add num_one and num_two and assign the value to a variable total\n",
    " Subtract num_two from num_one and assign the value to a variable\n",
    "diff\n",
    " Multiply num_two and num_one and assign the value to a variable\n",
    "product\n",
    " Divide num_one by num_two and assign the value to a variable\n",
    "division\n",
    " Use modulus division to find num_two divided by num_one and assign\n",
    "the value to a variable remainder\n",
    " Calculate num_one to the power of num_two and assign the value to\n",
    "a variable exp\n",
    " Find floor division of num_one by num_two and assign the value to\n",
    "a variable floor_division"
   ]
  },
  {
   "cell_type": "code",
   "execution_count": 15,
   "id": "10760cb5-ca2a-41e6-9197-e11082a0a3c3",
   "metadata": {},
   "outputs": [
    {
     "name": "stdout",
     "output_type": "stream",
     "text": [
      "9\n",
      "1\n",
      "20\n",
      "1.25\n",
      "4\n",
      "625\n",
      "1\n"
     ]
    }
   ],
   "source": [
    "num_one = 5\n",
    "num_two = 4\n",
    "\n",
    "total = num_one + num_two\n",
    "print(total)\n",
    "diff = num_one - num_two\n",
    "print(diff)\n",
    "product = num_one * num_two\n",
    "print(product)\n",
    "division = num_one / num_two\n",
    "print(division)\n",
    "remainder = num_two % num_one\n",
    "print(remainder)\n",
    "exp = num_one ** num_two\n",
    "print(exp)\n",
    "floor_division = num_one // num_two\n",
    "print(floor_division)"
   ]
  },
  {
   "cell_type": "markdown",
   "id": "84a23101-19d2-4dec-bcbf-c3e34bc1b7c0",
   "metadata": {},
   "source": [
    "Question 3:\n",
    " The radius of a circle is 30 meters.\n",
    " Calculate the area of a circle and assign the value to a variable\n",
    "name of area_of_circle\n",
    " Calculate the circumference of a circle and assign the value to a\n",
    "variable name of circum_of_circle\n",
    " Take radius as user input and calculate the area."
   ]
  },
  {
   "cell_type": "code",
   "execution_count": 26,
   "id": "fbbef306-6477-4507-9137-fd210c8f8cec",
   "metadata": {},
   "outputs": [
    {
     "name": "stdout",
     "output_type": "stream",
     "text": [
      "Area of circle with 30m radius = 2827.3500000000004\n",
      "Circumference of circle with 30m radius = 188.49\n"
     ]
    },
    {
     "name": "stdin",
     "output_type": "stream",
     "text": [
      "Enter radius of the circle:  100\n"
     ]
    },
    {
     "name": "stdout",
     "output_type": "stream",
     "text": [
      "Area of circle with 100.0 radius = 31415.0\n"
     ]
    }
   ],
   "source": [
    "radius = 30\n",
    "pi = 3.1415\n",
    "\n",
    "#Area of circle with given radius\n",
    "area_of_circle = pi * (radius**2)\n",
    "print(\"Area of circle with 30m radius =\", area_of_circle)\n",
    "\n",
    "#circumference of the same circle\n",
    "circum_of_circle = 2 * pi * radius\n",
    "print(\"Circumference of circle with 30m radius =\", circum_of_circle)\n",
    "\n",
    "#Area calculation from user input\n",
    "rad = float(input(\"Enter radius of the circle: \"))\n",
    "area = pi * rad ** 2\n",
    "print(\"Area of circle with \" + str(rad) + \" radius =\", area)"
   ]
  },
  {
   "cell_type": "markdown",
   "id": "ccad3b86-b570-4e8a-ad70-d6d975f89f19",
   "metadata": {},
   "source": [
    "Question 4:\n",
    "A grocery store sells a bag of ice for $1.25 and makes a 20% profit. If\n",
    "it sells 500 bags of ice, how much total profit does it make?"
   ]
  },
  {
   "cell_type": "code",
   "execution_count": 29,
   "id": "69c56d06-2d98-490f-9ef8-b91507501b98",
   "metadata": {},
   "outputs": [
    {
     "name": "stdout",
     "output_type": "stream",
     "text": [
      "Total profit is : 125.0$\n"
     ]
    }
   ],
   "source": [
    "price_per_bag = 1.25\n",
    "profit_per_bag = 0.20 * price_per_bag\n",
    "bags_sold = 500\n",
    "total_profit = profit_per_bag * bags_sold\n",
    "print(\"Total profit is : \" + str(total_profit) + \"$\")"
   ]
  },
  {
   "cell_type": "markdown",
   "id": "709e955a-a07f-4ce9-9feb-c0debe202110",
   "metadata": {},
   "source": [
    "Question 5:\n",
    "A travel company wants to fly a plane to the Bahamas. Flying the plane\n",
    "costs 5000 dollars. So far, 29 people have signed up for the trip. If\n",
    "the company charges 200 dollars per ticket, what is the profit made by\n",
    "the company? Create variables for each numeric quantity and use\n",
    "appropriate arithmetic operations."
   ]
  },
  {
   "cell_type": "code",
   "execution_count": 31,
   "id": "334130b4-32a8-42e8-826e-f73290e52438",
   "metadata": {},
   "outputs": [
    {
     "name": "stdout",
     "output_type": "stream",
     "text": [
      "Profit made = 800$\n"
     ]
    }
   ],
   "source": [
    "operational_cost = 5000\n",
    "total_pax = 29\n",
    "ticket_price = 200\n",
    "revenue_generated = total_pax * ticket_price\n",
    "profit = revenue_generated - operational_cost\n",
    "print(\"Profit made = \" + str(profit) + \"$\")"
   ]
  },
  {
   "cell_type": "code",
   "execution_count": null,
   "id": "99195715-f247-4bbb-8d43-6282ed9e555e",
   "metadata": {},
   "outputs": [],
   "source": []
  }
 ],
 "metadata": {
  "kernelspec": {
   "display_name": "Python 3 (ipykernel)",
   "language": "python",
   "name": "python3"
  },
  "language_info": {
   "codemirror_mode": {
    "name": "ipython",
    "version": 3
   },
   "file_extension": ".py",
   "mimetype": "text/x-python",
   "name": "python",
   "nbconvert_exporter": "python",
   "pygments_lexer": "ipython3",
   "version": "3.12.4"
  }
 },
 "nbformat": 4,
 "nbformat_minor": 5
}
