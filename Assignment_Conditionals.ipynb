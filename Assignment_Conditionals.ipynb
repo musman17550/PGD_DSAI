{
 "cells": [
  {
   "cell_type": "markdown",
   "id": "c8533907-beb0-4b40-8266-b777ec9ea38e",
   "metadata": {},
   "source": [
    "## Program a Calculator using Menu driven approach and perform the selected Operation"
   ]
  },
  {
   "cell_type": "code",
   "execution_count": 1,
   "id": "aabaf29d-f732-4e4b-bcdd-70168f019c4e",
   "metadata": {},
   "outputs": [
    {
     "name": "stdout",
     "output_type": "stream",
     "text": [
      "Select the operation to perform from the following:\n",
      "1- Addition\n",
      "2- Subtraction\n",
      "3- Product\n",
      "4- Factorial\n",
      "5- Division\n",
      "6- Power\n",
      "7- Square Root\n",
      " 7\n",
      "Enter desired number: 81\n"
     ]
    },
    {
     "name": "stdout",
     "output_type": "stream",
     "text": [
      "Square root of 81.0 is: 9.0\n"
     ]
    }
   ],
   "source": [
    "option = input('''Select the operation to perform from the following:\n",
    "1- Addition\n",
    "2- Subtraction\n",
    "3- Product\n",
    "4- Factorial\n",
    "5- Division\n",
    "6- Power\n",
    "7- Square Root\n",
    "''')\n",
    "\n",
    "if option == '1':\n",
    "    num1 = float(input(\"Enter first number:\"))\n",
    "    num2 = float(input(\"Enter second number:\"))\n",
    "    print(\"Addition of\", num1, 'and', num2, 'is:', num1+num2)\n",
    "elif option == '2':\n",
    "    num1 = float(input(\"Enter first number:\"))\n",
    "    num2 = float(input(\"Enter second number:\"))\n",
    "    print(\"Subtration of\", num1, 'and', num2, 'is:', num1-num2)\n",
    "elif option == '3':\n",
    "    num1 = float(input(\"Enter first number:\"))\n",
    "    num2 = float(input(\"Enter second number:\"))\n",
    "    print(\"Product of\", num1, 'and', num2, 'is:', num1*num2)\n",
    "elif option == '4':\n",
    "    num1 = int(input(\"Enter desired number:\"))\n",
    "    if num1 == 0:\n",
    "        factorial = 1\n",
    "    else:\n",
    "        factorial = 1\n",
    "        for i in range(1, num1 + 1):\n",
    "            factorial *= i\n",
    "        print(\"Factorial of\", num1, \"is:\", factorial)\n",
    "elif option == '5':\n",
    "    num1 = float(input(\"Enter first number:\"))\n",
    "    num2 = float(input(\"Enter second number:\"))\n",
    "    print(\"Division of\", num1, 'divided by', num2, 'is:', num1/num2)\n",
    "elif option == '6':\n",
    "    num1 = float(input(\"Enter first number:\"))\n",
    "    num2 = float(input(\"Enter second number:\"))\n",
    "    print(num1, \"raised to the power of\", num2, \"is:\", num1 ** num2)\n",
    "else:\n",
    "    num1 = float(input(\"Enter desired number:\"))\n",
    "    print(\"Square root of\", num1, \"is:\", (num1)**(1/2))"
   ]
  },
  {
   "cell_type": "markdown",
   "id": "061f2a74-158b-4491-9c98-900265e09009",
   "metadata": {},
   "source": [
    "### Coffee Machine"
   ]
  },
  {
   "cell_type": "code",
   "execution_count": 3,
   "id": "e1d1c3d7-ad2b-4e30-914a-3168b3e26998",
   "metadata": {},
   "outputs": [
    {
     "name": "stdout",
     "output_type": "stream",
     "text": [
      "What would you like? (espresso/latte/cappuccino):  latte\n"
     ]
    },
    {
     "name": "stdout",
     "output_type": "stream",
     "text": [
      "Please insert coins.\n"
     ]
    },
    {
     "name": "stdout",
     "output_type": "stream",
     "text": [
      "How many quarters?  1\n",
      "How many dimes?  0\n",
      "How many nickles?  0\n",
      "How many pennies?  0\n"
     ]
    },
    {
     "name": "stdout",
     "output_type": "stream",
     "text": [
      "Sorry! that's not enough money. Money refunded.\n"
     ]
    },
    {
     "name": "stdout",
     "output_type": "stream",
     "text": [
      "What would you like? (espresso/latte/cappuccino):  cappuccino\n"
     ]
    },
    {
     "name": "stdout",
     "output_type": "stream",
     "text": [
      "Please insert coins.\n"
     ]
    },
    {
     "name": "stdout",
     "output_type": "stream",
     "text": [
      "How many quarters?  2\n",
      "How many dimes?  1\n",
      "How many nickles?  1\n",
      "How many pennies?  1\n"
     ]
    },
    {
     "name": "stdout",
     "output_type": "stream",
     "text": [
      "Sorry! that's not enough money. Money refunded.\n"
     ]
    },
    {
     "name": "stdout",
     "output_type": "stream",
     "text": [
      "What would you like? (espresso/latte/cappuccino):  latte\n"
     ]
    },
    {
     "name": "stdout",
     "output_type": "stream",
     "text": [
      "Please insert coins.\n"
     ]
    },
    {
     "name": "stdout",
     "output_type": "stream",
     "text": [
      "How many quarters?  10\n",
      "How many dimes?  10\n",
      "How many nickles?  10\n",
      "How many pennies?  10\n"
     ]
    },
    {
     "name": "stdout",
     "output_type": "stream",
     "text": [
      "Here is $1.6 change\n",
      "Here is your latte. Enjoy!\n"
     ]
    },
    {
     "name": "stdout",
     "output_type": "stream",
     "text": [
      "What would you like? (espresso/latte/cappuccino):  report\n"
     ]
    },
    {
     "name": "stdout",
     "output_type": "stream",
     "text": [
      "water: 100ml\n",
      "milk: 50ml\n",
      "coffee: 76g\n",
      "Money: $2.5\n"
     ]
    },
    {
     "name": "stdout",
     "output_type": "stream",
     "text": [
      "What would you like? (espresso/latte/cappuccino):  cappuccino\n"
     ]
    },
    {
     "name": "stdout",
     "output_type": "stream",
     "text": [
      "Sorry there is not enough water.\n",
      "Sorry there is not enough milk.\n"
     ]
    },
    {
     "name": "stdout",
     "output_type": "stream",
     "text": [
      "What would you like? (espresso/latte/cappuccino):  off\n"
     ]
    },
    {
     "name": "stdout",
     "output_type": "stream",
     "text": [
      "Turning off, thank you!\n"
     ]
    }
   ],
   "source": [
    "MENU = {\n",
    "    \"espresso\": {\n",
    "        \"ingredients\": {\n",
    "            \"water\": 50,\n",
    "            \"coffee\": 18,\n",
    "        },\n",
    "        \"cost\": 1.5,\n",
    "    },\n",
    "    \"latte\": {\n",
    "        \"ingredients\": {\n",
    "            \"water\": 200,\n",
    "            \"milk\": 150,\n",
    "            \"coffee\": 24,\n",
    "        },\n",
    "        \"cost\": 2.5,\n",
    "    },\n",
    "    \"cappuccino\": {\n",
    "        \"ingredients\": {\n",
    "            \"water\": 250,\n",
    "            \"milk\": 100,\n",
    "            \"coffee\": 24,\n",
    "        },\n",
    "        \"cost\": 3.0,\n",
    "    }\n",
    "}  #A dictionary to store the menu items, in turn having further dictionaries for each item's ingredients as the values, and cost as well.\n",
    "\n",
    "profit = 0\n",
    "resources = {\n",
    "    \"water\": 300,\n",
    "    \"milk\": 200,\n",
    "    \"coffee\": 100,\n",
    "}\n",
    "\n",
    "is_on = True\n",
    "while is_on:\n",
    "    user_choice = input(\"What would you like? (espresso/latte/cappuccino): \")\n",
    "    user_choice = user_choice.lower()\n",
    "    \n",
    "    if user_choice == \"off\":\n",
    "        is_on = False\n",
    "        print(\"Turning off, thank you!\")\n",
    "    elif user_choice == \"report\":\n",
    "        print(f\"water: {resources['water']}ml\")\n",
    "        print(f\"milk: {resources['milk']}ml\")\n",
    "        print(f\"coffee: {resources['coffee']}g\")\n",
    "        print(f\"Money: ${profit}\")\n",
    "    else:\n",
    "        drink = MENU[user_choice]\n",
    "        \n",
    "        # Checking if resources are enough to prepare the ordered coffee\n",
    "        is_enough = True\n",
    "        for item in drink[\"ingredients\"]: #referring to subdictionaries of Menu dictionary\n",
    "            if drink[\"ingredients\"][item] >= resources[item]:\n",
    "                print(f\"Sorry there is not enough {item}.\")\n",
    "                is_enough = False\n",
    "        \n",
    "        if is_enough:\n",
    "            # Calculating the total amount paid by the user\n",
    "            print(\"Please insert coins.\")\n",
    "            total = int(input(\"How many quarters? \")) * 0.25\n",
    "            total += int(input(\"How many dimes? \")) * 0.10\n",
    "            total += int(input(\"How many nickles? \")) * 0.05\n",
    "            total += int(input(\"How many pennies? \")) * 0.01\n",
    "            \n",
    "            # Check if transaction is successful\n",
    "            if total >= drink['cost']:\n",
    "                change = round(total - drink['cost'], 2) #round function used to round off the difference to 2 decimal places\n",
    "                print(f\"Here is ${change} change\")\n",
    "                profit += drink['cost']\n",
    "                \n",
    "                # Make coffee\n",
    "                for item in drink[\"ingredients\"]:\n",
    "                    resources[item] -= drink[\"ingredients\"][item] #Subtracting the ingredients used to prepare user's order from the available resources\n",
    "                print(f\"Here is your {user_choice}. Enjoy!\")\n",
    "            else:\n",
    "                print(\"Sorry! that's not enough money. Money refunded.\")"
   ]
  },
  {
   "cell_type": "markdown",
   "id": "dc100544-9631-41a1-9958-eb37e5cad540",
   "metadata": {},
   "source": [
    "### ATM Mechanism Flow"
   ]
  },
  {
   "cell_type": "code",
   "execution_count": 7,
   "id": "f037a496-0932-43c2-89b7-5cbf472bc8ba",
   "metadata": {},
   "outputs": [
    {
     "name": "stdout",
     "output_type": "stream",
     "text": [
      "\n",
      "Welcome to the ATM\n"
     ]
    },
    {
     "name": "stdout",
     "output_type": "stream",
     "text": [
      "Please enter your PIN:  1233\n"
     ]
    },
    {
     "name": "stdout",
     "output_type": "stream",
     "text": [
      "Incorrect PIN. Access denied.\n"
     ]
    },
    {
     "name": "stdout",
     "output_type": "stream",
     "text": [
      "\n",
      "Do you want to perform another transaction? (yes/no):  yes\n"
     ]
    },
    {
     "name": "stdout",
     "output_type": "stream",
     "text": [
      "\n",
      "Welcome to the ATM\n"
     ]
    },
    {
     "name": "stdout",
     "output_type": "stream",
     "text": [
      "Please enter your PIN:  1234\n"
     ]
    },
    {
     "name": "stdout",
     "output_type": "stream",
     "text": [
      "\n",
      "PIN accepted. Choose an option:\n",
      "1. Check Balance\n",
      "2. Deposit\n",
      "3. Withdraw\n",
      "4. Exit\n"
     ]
    },
    {
     "name": "stdout",
     "output_type": "stream",
     "text": [
      "Enter your choice (1-4):  1\n"
     ]
    },
    {
     "name": "stdout",
     "output_type": "stream",
     "text": [
      "Your current balance is $1000\n"
     ]
    },
    {
     "name": "stdout",
     "output_type": "stream",
     "text": [
      "\n",
      "Do you want to perform another transaction? (yes/no):  yes\n"
     ]
    },
    {
     "name": "stdout",
     "output_type": "stream",
     "text": [
      "\n",
      "Welcome to the ATM\n"
     ]
    },
    {
     "name": "stdout",
     "output_type": "stream",
     "text": [
      "Please enter your PIN:  1234\n"
     ]
    },
    {
     "name": "stdout",
     "output_type": "stream",
     "text": [
      "\n",
      "PIN accepted. Choose an option:\n",
      "1. Check Balance\n",
      "2. Deposit\n",
      "3. Withdraw\n",
      "4. Exit\n"
     ]
    },
    {
     "name": "stdout",
     "output_type": "stream",
     "text": [
      "Enter your choice (1-4):  2\n",
      "Enter the amount to deposit: $ 200\n"
     ]
    },
    {
     "name": "stdout",
     "output_type": "stream",
     "text": [
      "Deposit successful. New balance: $1200.0\n"
     ]
    },
    {
     "name": "stdout",
     "output_type": "stream",
     "text": [
      "\n",
      "Do you want to perform another transaction? (yes/no):  yes\n"
     ]
    },
    {
     "name": "stdout",
     "output_type": "stream",
     "text": [
      "\n",
      "Welcome to the ATM\n"
     ]
    },
    {
     "name": "stdout",
     "output_type": "stream",
     "text": [
      "Please enter your PIN:  1234\n"
     ]
    },
    {
     "name": "stdout",
     "output_type": "stream",
     "text": [
      "\n",
      "PIN accepted. Choose an option:\n",
      "1. Check Balance\n",
      "2. Deposit\n",
      "3. Withdraw\n",
      "4. Exit\n"
     ]
    },
    {
     "name": "stdout",
     "output_type": "stream",
     "text": [
      "Enter your choice (1-4):  3\n",
      "Enter the amount to withdraw: $ 1500\n"
     ]
    },
    {
     "name": "stdout",
     "output_type": "stream",
     "text": [
      "Insufficient funds. Withdrawal cancelled.\n"
     ]
    },
    {
     "name": "stdout",
     "output_type": "stream",
     "text": [
      "\n",
      "Do you want to perform another transaction? (yes/no):  yes\n"
     ]
    },
    {
     "name": "stdout",
     "output_type": "stream",
     "text": [
      "\n",
      "Welcome to the ATM\n"
     ]
    },
    {
     "name": "stdout",
     "output_type": "stream",
     "text": [
      "Please enter your PIN:  3\n"
     ]
    },
    {
     "name": "stdout",
     "output_type": "stream",
     "text": [
      "Incorrect PIN. Access denied.\n"
     ]
    },
    {
     "name": "stdout",
     "output_type": "stream",
     "text": [
      "\n",
      "Do you want to perform another transaction? (yes/no):  yes\n"
     ]
    },
    {
     "name": "stdout",
     "output_type": "stream",
     "text": [
      "\n",
      "Welcome to the ATM\n"
     ]
    },
    {
     "name": "stdout",
     "output_type": "stream",
     "text": [
      "Please enter your PIN:  1234\n"
     ]
    },
    {
     "name": "stdout",
     "output_type": "stream",
     "text": [
      "\n",
      "PIN accepted. Choose an option:\n",
      "1. Check Balance\n",
      "2. Deposit\n",
      "3. Withdraw\n",
      "4. Exit\n"
     ]
    },
    {
     "name": "stdout",
     "output_type": "stream",
     "text": [
      "Enter your choice (1-4):  3\n",
      "Enter the amount to withdraw: $ 1000\n"
     ]
    },
    {
     "name": "stdout",
     "output_type": "stream",
     "text": [
      "Withdrawal successful. New balance: $200.0\n"
     ]
    },
    {
     "name": "stdout",
     "output_type": "stream",
     "text": [
      "\n",
      "Do you want to perform another transaction? (yes/no):  no\n"
     ]
    },
    {
     "name": "stdout",
     "output_type": "stream",
     "text": [
      "Thank you for using our ATM. Goodbye!\n"
     ]
    }
   ],
   "source": [
    "# Initialize account balance and PIN\n",
    "balance = 1000\n",
    "correct_pin = \"1234\"\n",
    "\n",
    "# Main ATM loop\n",
    "is_running = True\n",
    "while is_running:\n",
    "    print(\"\\nWelcome to the ATM\")\n",
    "    entered_pin = input(\"Please enter your PIN: \")\n",
    "\n",
    "    if entered_pin == correct_pin:\n",
    "        print(\"\\nPIN accepted. Choose an option:\")\n",
    "        print(\"\"\"1. Check Balance\n",
    "2. Deposit\n",
    "3. Withdraw\n",
    "4. Exit\"\"\")\n",
    "\n",
    "        choice = input(\"Enter your choice (1-4): \")\n",
    "\n",
    "        if choice == \"1\":\n",
    "            print(f\"Your current balance is ${balance}\")\n",
    "\n",
    "        elif choice == \"2\":\n",
    "            deposit_amount = float(input(\"Enter the amount to deposit: $\"))\n",
    "            if deposit_amount > 0:\n",
    "                balance += deposit_amount\n",
    "                print(f\"Deposit successful. New balance: ${balance}\")\n",
    "            else:\n",
    "                print(\"Invalid amount. Deposit cancelled.\")\n",
    "\n",
    "        elif choice == \"3\":\n",
    "            withdraw_amount = float(input(\"Enter the amount to withdraw: $\"))\n",
    "            if withdraw_amount > 0:\n",
    "                if withdraw_amount <= balance: #if user tries to withdraw more amount than the balance\n",
    "                    balance -= withdraw_amount\n",
    "                    print(f\"Withdrawal successful. New balance: ${balance}\")\n",
    "                else:\n",
    "                    print(\"Insufficient funds. Withdrawal cancelled.\")\n",
    "            else:\n",
    "                print(\"Invalid amount. Withdrawal cancelled.\")\n",
    "\n",
    "        elif choice == \"4\":\n",
    "            print(\"Thank you for using our ATM. Goodbye!\")\n",
    "            is_running = False #To terminate the while loop so that the user can recover the card\n",
    "\n",
    "        else:\n",
    "            print(\"Invalid choice. Please try again.\")\n",
    "\n",
    "    else:\n",
    "        print(\"Incorrect PIN. Access denied.\")\n",
    "\n",
    "    if is_running:\n",
    "        continue_choice = input(\"\\nDo you want to perform another transaction? (yes/no): \")\n",
    "        if continue_choice.lower() != \"yes\":\n",
    "            print(\"Thank you for using our ATM. Goodbye!\")\n",
    "            is_running = False #Again for exit the while loop is to be terminated so we make its condition false"
   ]
  },
  {
   "cell_type": "markdown",
   "id": "128c3d2d-560f-46b0-801b-62b9d574505c",
   "metadata": {},
   "source": [
    "#### Sir I have avoided using functions in this assignment as we haven't covered those in the class yet, the only extra thing that I have used is String Formatting."
   ]
  },
  {
   "cell_type": "code",
   "execution_count": null,
   "id": "7af463aa-193d-4f19-94b3-c04e76fbb2bd",
   "metadata": {},
   "outputs": [],
   "source": []
  }
 ],
 "metadata": {
  "kernelspec": {
   "display_name": "Python 3 (ipykernel)",
   "language": "python",
   "name": "python3"
  },
  "language_info": {
   "codemirror_mode": {
    "name": "ipython",
    "version": 3
   },
   "file_extension": ".py",
   "mimetype": "text/x-python",
   "name": "python",
   "nbconvert_exporter": "python",
   "pygments_lexer": "ipython3",
   "version": "3.12.4"
  }
 },
 "nbformat": 4,
 "nbformat_minor": 5
}
