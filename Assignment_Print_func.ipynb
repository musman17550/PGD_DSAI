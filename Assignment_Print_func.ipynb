{
 "cells": [
  {
   "cell_type": "code",
   "execution_count": 7,
   "id": "56821dde-c8f3-454c-9277-c8b1d8fde2f4",
   "metadata": {
    "scrolled": true
   },
   "outputs": [
    {
     "name": "stdout",
     "output_type": "stream",
     "text": [
      "============================================================\n",
      "\t\t\tMy Profile\n",
      "============================================================\n",
      "Name:\t\t\t\t Muhammad Usman\n",
      "Gender:\t\t\t\t Male\n",
      "Age:\t\t\t\t 31\n",
      "Designation:\t\t\t N/A\n",
      "Organzation:\t\t\t N/A\n",
      "Is Working:\t\t\t False\n",
      "CGPA:\t\t\t\t 3.32\n",
      "============================================================\n"
     ]
    }
   ],
   "source": [
    "# Static Introduction\n",
    "print(\"============================================================\")\n",
    "print(\"\\t\\t\\tMy Profile\")\n",
    "print(\"============================================================\")\n",
    "print(\"Name:\\t\\t\\t\\t\" + \" Muhammad Usman\")\n",
    "print(\"Gender:\\t\\t\\t\\t\" + \" Male\")\n",
    "print(\"Age:\\t\\t\\t\\t\",31)\n",
    "print(\"Designation:\\t\\t\\t\" + \" N/A\")\n",
    "print(\"Organzation:\\t\\t\\t\" + \" N/A\")\n",
    "print(\"Is Working:\\t\\t\\t\",bool(0))\n",
    "print(\"CGPA:\\t\\t\\t\\t\",3.32)\n",
    "print(\"============================================================\")"
   ]
  },
  {
   "cell_type": "code",
   "execution_count": 21,
   "id": "1b5b0750-8bd4-4fb9-820d-c8a9798a688d",
   "metadata": {},
   "outputs": [
    {
     "name": "stdin",
     "output_type": "stream",
     "text": [
      "Enter your full name:  Muhammad Usman\n",
      "Enter your gender:  Male\n",
      "Enter your age:  31\n",
      "Enter your current designation:  N/A\n",
      "Enter current organizations's name:  N/A\n",
      "Are you employed? Yes or No: No\n",
      "Enter your last CGPA:  3.32\n"
     ]
    },
    {
     "name": "stdout",
     "output_type": "stream",
     "text": [
      "============================================================\n",
      "\t\t\tMy Profile\n",
      "============================================================\n",
      "Name:\t\t\t\t Muhammad Usman\n",
      "Gender:\t\t\t\t Male\n",
      "Age:\t\t\t\t 31\n",
      "Designation:\t\t\t N/A\n",
      "Organzation:\t\t\t N/A\n",
      "Is Working:\t\t\t False\n",
      "CGPA:\t\t\t\t 3.32\n",
      "============================================================\n"
     ]
    }
   ],
   "source": [
    "# Dynamic Introduction\n",
    "name = str(input(\"Enter your full name: \"))\n",
    "gender = str(input(\"Enter your gender: \"))\n",
    "age = int(input(\"Enter your age: \"))\n",
    "desig = str(input(\"Enter your current designation: \"))\n",
    "org = str(input(\"Enter current organizations's name: \"))\n",
    "is_working = str(input(\"Are you employed? Yes or No:\"))\n",
    "def input_to_bool():\n",
    "    if is_working.lower() == \"yes\":\n",
    "        return True\n",
    "    else:\n",
    "        return False\n",
    "cgpa = float(input(\"Enter your last CGPA: \"))\n",
    "\n",
    "print(\"============================================================\")\n",
    "print(\"\\t\\t\\tMy Profile\")\n",
    "print(\"============================================================\")\n",
    "print(\"Name:\\t\\t\\t\\t\", name)\n",
    "print(\"Gender:\\t\\t\\t\\t\", gender)\n",
    "print(\"Age:\\t\\t\\t\\t\", age)\n",
    "print(\"Designation:\\t\\t\\t\", desig)\n",
    "print(\"Organzation:\\t\\t\\t\", org)\n",
    "print(\"Is Working:\\t\\t\\t\", input_to_bool())\n",
    "print(\"CGPA:\\t\\t\\t\\t\", cgpa)\n",
    "print(\"============================================================\")"
   ]
  },
  {
   "cell_type": "code",
   "execution_count": null,
   "id": "8f8c7a64-bd7a-4e65-bd04-1cbedba3e126",
   "metadata": {},
   "outputs": [],
   "source": []
  }
 ],
 "metadata": {
  "kernelspec": {
   "display_name": "Python 3 (ipykernel)",
   "language": "python",
   "name": "python3"
  },
  "language_info": {
   "codemirror_mode": {
    "name": "ipython",
    "version": 3
   },
   "file_extension": ".py",
   "mimetype": "text/x-python",
   "name": "python",
   "nbconvert_exporter": "python",
   "pygments_lexer": "ipython3",
   "version": "3.12.4"
  }
 },
 "nbformat": 4,
 "nbformat_minor": 5
}
